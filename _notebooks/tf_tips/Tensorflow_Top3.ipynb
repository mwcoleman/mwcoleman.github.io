{
 "cells": [
  {
   "cell_type": "markdown",
   "id": "04883783",
   "metadata": {},
   "source": [
    "# Tensorflow: Pre/Post Top 3"
   ]
  },
  {
   "cell_type": "markdown",
   "id": "cabb3264",
   "metadata": {},
   "source": [
    "*Waffle* \n",
    "\n",
    "A year into the Masters of A.I. at Monash and so far we've covered plenty of the foundations; probability theory, statistical/shallow learning methods, and domain specific knowledge in NLP and CV. I've really enjoyed learning about latent variable modelling, unsupervised/clustering methods and how different models find structure in data. Next up is deep learning and the research stream. I figured it makes sense to get to know the framework we'll be using before this happens, so I've been running through the excellent [Tensorflow 2 for Deep Learning](https://www.coursera.org/specializations/tensorflow2-deeplearning) by Imperial College London Specialisation on Coursera. \n",
    "\n",
    "Here's 5 important topics we have explored. This is intended as a quick reference for myself and any others who might benefit from it. Training/evaluating Models have been left out for now as there is plenty of information on this elsewhere. The (vital) knowledge I lacked has been in preprocessing, pipelines, and predictions.\n",
    "\n",
    "  \n",
    "  \n",
    "*Topics*\n",
    "1. Data pipelines and preprocessing\n",
    "2. Dataset objects: Inspecting and manipulating objects\n",
    "3. Predictions: Making them, interpreting them, handling shapes"
   ]
  },
  {
   "cell_type": "markdown",
   "id": "23d26f85",
   "metadata": {},
   "source": [
    "## Data pipelines and preprocessing\n",
    "  \n",
    "  \n",
    "This is all about getting data into the right format for a model."
   ]
  },
  {
   "cell_type": "markdown",
   "id": "4c74cd7a",
   "metadata": {},
   "source": [
    "### Topics\n",
    "1. Numpy arrays\n",
    "2. Pandas Dataframes and CSV\n",
    "3. Images\n",
    "\n",
    "(I'm not going to cover the in-built datasets they haven't caused me much grief.)"
   ]
  },
  {
   "cell_type": "markdown",
   "id": "2a955668",
   "metadata": {
    "ExecuteTime": {
     "end_time": "2021-07-09T05:35:47.158390Z",
     "start_time": "2021-07-09T05:35:47.155782Z"
    }
   },
   "source": [
    "#### From Numpy arrays\n",
    "`tf.data.Dataset.from_tensor_slices(input_tensor)`  \n",
    "`tf.data.Dataset.from_tensors(input_tensor)`\n",
    "\n",
    "These methods make tf dataset objects from numpy arrays. They convert the input array into a set of tf.constant op's for the tf graph.\n",
    "\n",
    "The difference between the two is the expected shape: The first assumes that the input array's first dimension is the batch.\n",
    "\n",
    "Let's create some dummy data for an example:"
   ]
  },
  {
   "cell_type": "code",
   "execution_count": 8,
   "id": "068ec9dc",
   "metadata": {
    "ExecuteTime": {
     "end_time": "2021-07-09T05:50:31.753586Z",
     "start_time": "2021-07-09T05:50:31.746650Z"
    }
   },
   "outputs": [
    {
     "data": {
      "text/plain": [
       "(TensorSpec(shape=(4, 2), dtype=tf.int64, name=None),\n",
       " TensorSpec(shape=(1,), dtype=tf.int64, name=None))"
      ]
     },
     "execution_count": 8,
     "metadata": {},
     "output_type": "execute_result"
    }
   ],
   "source": [
    "data = np.empty(shape=(10,4,2),dtype=int) # 10 examples of shape 4,2\n",
    "labels = np.empty(shape=(10,1),dtype=int) #\n",
    "\n",
    "batched_dataset = tf.data.Dataset.from_tensor_slices((data, labels))\n",
    "batched_dataset.element_spec"
   ]
  },
  {
   "cell_type": "markdown",
   "id": "30ab979c",
   "metadata": {},
   "source": [
    "Using `tf.data.Dataset.from_tensor_slices(input_tensor)` generates a dataset with 10 elements, each element of the shape given above.\n",
    "\n"
   ]
  },
  {
   "cell_type": "code",
   "execution_count": 10,
   "id": "3f25a1cb",
   "metadata": {
    "ExecuteTime": {
     "end_time": "2021-07-09T05:51:55.663494Z",
     "start_time": "2021-07-09T05:51:55.659457Z"
    }
   },
   "outputs": [
    {
     "data": {
      "text/plain": [
       "(TensorSpec(shape=(10, 4, 2), dtype=tf.int64, name=None),\n",
       " TensorSpec(shape=(10, 1), dtype=tf.int64, name=None))"
      ]
     },
     "execution_count": 10,
     "metadata": {},
     "output_type": "execute_result"
    }
   ],
   "source": [
    "dataset = tf.data.Dataset.from_tensors((data, labels))\n",
    "dataset.element_spec"
   ]
  },
  {
   "cell_type": "markdown",
   "id": "773d0843",
   "metadata": {},
   "source": [
    "Wheras this has generated a dataset containing one training example of the shapes given above."
   ]
  },
  {
   "cell_type": "markdown",
   "id": "fc5b2398",
   "metadata": {},
   "source": [
    "#### From Pandas DataFrames and csv's\n",
    "`tf.data.Dataset.from_tensor_slices(input_tensor)`  \n",
    "\n",
    "We can use this method to convert from a pandas df by first converting the df to a dictionary."
   ]
  },
  {
   "cell_type": "code",
   "execution_count": 17,
   "id": "ef4c3d7a",
   "metadata": {
    "ExecuteTime": {
     "end_time": "2021-07-09T06:00:56.945239Z",
     "start_time": "2021-07-09T06:00:56.938737Z"
    }
   },
   "outputs": [
    {
     "name": "stdout",
     "output_type": "stream",
     "text": [
      "  Answer  Marks  Included\n",
      "0      a      1         0\n",
      "1      a      5         1\n",
      "2      c      7         1\n",
      "3      b      2         0\n",
      "dict_keys(['Answer', 'Marks', 'Included'])\n"
     ]
    }
   ],
   "source": [
    "# Create a dummy df\n",
    "df = pd.DataFrame((['a', 1, 0], \n",
    "                   ['a', 5, 1], \n",
    "                   ['c', 7, 1],\n",
    "                   ['b', 2, 0]), columns=['Answer', 'Marks', 'Included'])\n",
    "\n",
    "print(df)\n",
    "\n",
    "df_dict = dict(df)\n",
    "\n",
    "print(df_dict.keys())"
   ]
  },
  {
   "cell_type": "code",
   "execution_count": 20,
   "id": "e7568eab",
   "metadata": {
    "ExecuteTime": {
     "end_time": "2021-07-09T06:01:25.783284Z",
     "start_time": "2021-07-09T06:01:25.777191Z"
    }
   },
   "outputs": [
    {
     "data": {
      "text/plain": [
       "{'Answer': TensorSpec(shape=(), dtype=tf.string, name=None),\n",
       " 'Marks': TensorSpec(shape=(), dtype=tf.int64, name=None),\n",
       " 'Included': TensorSpec(shape=(), dtype=tf.int64, name=None)}"
      ]
     },
     "execution_count": 20,
     "metadata": {},
     "output_type": "execute_result"
    }
   ],
   "source": [
    "df_dataset = tf.data.Dataset.from_tensor_slices(df_dict)\n",
    "df_dataset.element_spec"
   ]
  },
  {
   "cell_type": "markdown",
   "id": "032f4704",
   "metadata": {},
   "source": [
    "We can also create them directly from csv's using  \n",
    "`tf.data.experimental.make_csv_dataset(path, batch_size, label_name)`"
   ]
  },
  {
   "cell_type": "code",
   "execution_count": null,
   "id": "5dbdec14",
   "metadata": {},
   "outputs": [],
   "source": []
  }
 ],
 "metadata": {
  "kernelspec": {
   "display_name": "Python 3",
   "language": "python",
   "name": "python3"
  },
  "language_info": {
   "codemirror_mode": {
    "name": "ipython",
    "version": 3
   },
   "file_extension": ".py",
   "mimetype": "text/x-python",
   "name": "python",
   "nbconvert_exporter": "python",
   "pygments_lexer": "ipython3",
   "version": "3.8.5"
  },
  "toc": {
   "base_numbering": 1,
   "nav_menu": {},
   "number_sections": true,
   "sideBar": true,
   "skip_h1_title": false,
   "title_cell": "Table of Contents",
   "title_sidebar": "Contents",
   "toc_cell": false,
   "toc_position": {},
   "toc_section_display": true,
   "toc_window_display": false
  },
  "varInspector": {
   "cols": {
    "lenName": 16,
    "lenType": 16,
    "lenVar": 40
   },
   "kernels_config": {
    "python": {
     "delete_cmd_postfix": "",
     "delete_cmd_prefix": "del ",
     "library": "var_list.py",
     "varRefreshCmd": "print(var_dic_list())"
    },
    "r": {
     "delete_cmd_postfix": ") ",
     "delete_cmd_prefix": "rm(",
     "library": "var_list.r",
     "varRefreshCmd": "cat(var_dic_list()) "
    }
   },
   "types_to_exclude": [
    "module",
    "function",
    "builtin_function_or_method",
    "instance",
    "_Feature"
   ],
   "window_display": false
  }
 },
 "nbformat": 4,
 "nbformat_minor": 5
}
